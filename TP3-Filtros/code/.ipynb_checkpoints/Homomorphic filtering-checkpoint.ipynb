{
 "cells": [
  {
   "cell_type": "markdown",
   "metadata": {},
   "source": [
    "# Imports"
   ]
  },
  {
   "cell_type": "code",
   "execution_count": 1,
   "metadata": {},
   "outputs": [],
   "source": [
    "import cv2 as cv\n",
    "import numpy as np\n",
    "from numpy.fft import fft2, fftshift, ifft2"
   ]
  },
  {
   "cell_type": "markdown",
   "metadata": {},
   "source": [
    "# Leemos la imagen\n",
    "\n",
    "Leemos en blanco y negro una imagen y le aplicamos un downsample de forma de que entre en pantalla"
   ]
  },
  {
   "cell_type": "code",
   "execution_count": 2,
   "metadata": {},
   "outputs": [],
   "source": [
    "tun = cv.imread('../data/Imagenes para el TP/tun.jpg', cv.IMREAD_GRAYSCALE)\n",
    "tun = cv.resize(src=tun, dsize=None, fx=1/2, fy=1/2, interpolation=cv.INTER_AREA)"
   ]
  },
  {
   "cell_type": "markdown",
   "metadata": {},
   "source": [
    "Visualizamos la imagen y nos damos cuenta que en las zonas oscuras no se detectan detalles como los bordes de las rocas que conforman el techo."
   ]
  },
  {
   "cell_type": "code",
   "execution_count": 3,
   "metadata": {},
   "outputs": [
    {
     "data": {
      "text/plain": [
       "-1"
      ]
     },
     "execution_count": 3,
     "metadata": {},
     "output_type": "execute_result"
    }
   ],
   "source": [
    "cv.imshow(winname='Tunel', mat=tun)\n",
    "cv.waitKey(0)"
   ]
  },
  {
   "cell_type": "markdown",
   "metadata": {},
   "source": [
    "# Filtrado Homomórfico\n",
    "\n",
    "La imagen f(x, y) se puede expresar como $f(x, y) = i(x, y)\\cdot r(x, y)$, donde $i(x, y)$ es la ilumninancia y $r(x, y)$ es la reflectancia.\n",
    "\n",
    "Mientras que $i(x, y)$ está asociada con variaciones espaciales lentas en la imagen, $r(x, y)$ está asociada con variaciones espaciales abruptas en la imagen. Se pretende entonces operar sobre la imagen de forma de amplicar una componente y atenuar en simultáneo a otra, de forma tal de hacer prevalecer los bordes o las suavidades de una imagen.\n",
    "\n",
    "Dado que un producto puede ser descompuesto como una suma al aplicarle un logaritmo $ln(i(x, y)\\cdot r(x, y)) = ln(i(x, y)) + ln(r(x, y)$, y dado que la transformada de Fourier es una transformación lineal, se pretende hacer uso de esta propiedad realizando una nueva transformación, la denominada homomórfica, en la que el filtrado en frecuencia de cada componente se produzca luego de aplicar el logaritmo a la imagen, para tener a estas dos componentes por separado. De forma matemática:\n",
    "\n",
    "$F(ln(i(x, y)\\cdot r(x, y)))(f) = F(ln(i(x, y)))(f) + F(ln(r(x, y))(f)$\n",
    "\n",
    "$F(ln(i(x, y)\\cdot r(x, y)))(f) = F(ln(i(x, y)))(f) + F(ln(r(x, y))(f)$\n",
    "\n",
    "Se aplican entonces los siguientes pasos para realizar:\n",
    "\n",
    "1) Se aplica el logaritmo a cada píxel de la imagen, luego se calcula su Transformada de Fourier.\n",
    "\n",
    "2) Se aplica el filtro deseado en el dominio de la frecuencia. En este caso el aplicado filtro a aplicar es un filtro pasa-altos gaussiano por su facilidad de implementación usando OpenCV y porque queremos resaltar las frecuencias altas del logaritmo, aquellas que resaltan los detalles de la imagen (detalles de la roca en zonas oscuras).\n",
    "\n",
    "3) Se vuelve al dominio del espacio y se realiza la exponencial del resultado de forma de \"invertir\" el logaritmo."
   ]
  },
  {
   "cell_type": "code",
   "execution_count": 4,
   "metadata": {},
   "outputs": [],
   "source": [
    "def homorphic(img, apply_filter=False, sigma=1):\n",
    "    sigma = sigma\n",
    "    img = img.astype(dtype=np.uint16)\n",
    "    img = np.log(1 + img)\n",
    "\n",
    "    img = fftshift(fft2(img))\n",
    "    img = img / np.max(np.abs(img))\n",
    "    if apply_filter:\n",
    "        \n",
    "        kernel_x = cv.getGaussianKernel(ksize=img.shape[0], sigma=sigma, ktype=cv.CV_64F)\n",
    "        kernel_y = cv.getGaussianKernel(ksize=img.shape[1], sigma=sigma, ktype=cv.CV_64F)\n",
    "        kernel = np.multiply(kernel_x, np.transpose(kernel_y))\n",
    "        kernel = kernel / np.max(kernel)\n",
    "        kernel = 1 - kernel\n",
    "\n",
    "        new_img = img * kernel\n",
    "    else :\n",
    "        new_img = img\n",
    "        \n",
    "    new_img = np.abs(ifft2(new_img)).astype(np.float)\n",
    "    new_img = new_img / np.max(new_img)\n",
    "    \n",
    "    if apply_filter:  \n",
    "        new_img = np.exp(new_img)\n",
    "        new_img /= np.e\n",
    "    \n",
    "    new_img = new_img * 255\n",
    "    new_img = new_img.astype(dtype=np.uint8)\n",
    "\n",
    "    return new_img"
   ]
  },
  {
   "cell_type": "markdown",
   "metadata": {},
   "source": [
    "# Resultados"
   ]
  },
  {
   "cell_type": "markdown",
   "metadata": {},
   "source": [
    "Aplicamos la transformación homomórfica sin filtrar:"
   ]
  },
  {
   "cell_type": "code",
   "execution_count": 5,
   "metadata": {
    "scrolled": true
   },
   "outputs": [
    {
     "data": {
      "text/plain": [
       "-1"
      ]
     },
     "execution_count": 5,
     "metadata": {},
     "output_type": "execute_result"
    }
   ],
   "source": [
    "tuneado = homorphic(img=tun, apply_filter=False)\n",
    "result = np.hstack((tun, tuneado))\n",
    "cv.imshow(winname='No Tuneada vs. Tuneada sin filtro', mat=result)\n",
    "cv.waitKey(0)"
   ]
  },
  {
   "cell_type": "markdown",
   "metadata": {},
   "source": [
    "Aplicamos la transformación homomórfica filtrando con un pasa-altos gaussiano y observamos los resultados:"
   ]
  },
  {
   "cell_type": "code",
   "execution_count": 6,
   "metadata": {},
   "outputs": [
    {
     "data": {
      "text/plain": [
       "-1"
      ]
     },
     "execution_count": 6,
     "metadata": {},
     "output_type": "execute_result"
    }
   ],
   "source": [
    "tuneado = homorphic(img=tun, apply_filter=True, sigma=1)\n",
    "result = np.hstack((tun, tuneado))\n",
    "cv.imshow(winname='No Tuneada vs. Tuneada con filtro', mat=result)\n",
    "cv.waitKey(0)"
   ]
  }
 ],
 "metadata": {
  "kernelspec": {
   "display_name": "Python 3",
   "language": "python",
   "name": "python3"
  },
  "language_info": {
   "codemirror_mode": {
    "name": "ipython",
    "version": 3
   },
   "file_extension": ".py",
   "mimetype": "text/x-python",
   "name": "python",
   "nbconvert_exporter": "python",
   "pygments_lexer": "ipython3",
   "version": "3.8.5"
  }
 },
 "nbformat": 4,
 "nbformat_minor": 4
}
