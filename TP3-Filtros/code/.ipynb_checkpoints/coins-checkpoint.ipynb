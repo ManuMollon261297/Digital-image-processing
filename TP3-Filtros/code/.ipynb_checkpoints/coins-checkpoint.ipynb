{
 "cells": [
  {
   "cell_type": "code",
   "execution_count": 2,
   "metadata": {},
   "outputs": [],
   "source": [
    "import cv2 as cv\n",
    "import numpy as np\n",
    "import scipy.signal as signal"
   ]
  },
  {
   "cell_type": "markdown",
   "metadata": {},
   "source": [
    "Primero creamos una funcion para aplicar ruido salt and pepper a la imagen. El mismo coloca pixels negros y blancos de forma random a lo largo de la imagen:"
   ]
  },
  {
   "cell_type": "code",
   "execution_count": 3,
   "metadata": {},
   "outputs": [],
   "source": [
    "def saltAndPepperNoisy(image, amount=0.01):\n",
    "    row,col = image.shape\n",
    "    s_vs_p = 0.5\n",
    "    out = np.copy(image)\n",
    "    # Salt mode\n",
    "    num_salt = np.ceil(amount * image.size * s_vs_p)\n",
    "    coords = [np.random.randint(0, i - 1, int(num_salt)) for i in image.shape]\n",
    "    out[tuple(coords)] = 255\n",
    "    # Pepper mode\n",
    "    num_pepper = np.ceil(amount* image.size * (1. - s_vs_p))\n",
    "    coords = [np.random.randint(0, i - 1, int(num_pepper)) for i in image.shape]\n",
    "    out[tuple(coords)] = 0\n",
    "    return out"
   ]
  },
  {
   "cell_type": "markdown",
   "metadata": {},
   "source": [
    "Observamos la imagen original:"
   ]
  },
  {
   "cell_type": "code",
   "execution_count": 4,
   "metadata": {},
   "outputs": [
    {
     "data": {
      "text/plain": [
       "-1"
      ]
     },
     "execution_count": 4,
     "metadata": {},
     "output_type": "execute_result"
    }
   ],
   "source": [
    "# Load Image\n",
    "img = cv.imread(filename='../data/images/eight.tif', flags=cv.IMREAD_GRAYSCALE)\n",
    "cv.imshow(mat = img, winname = 'Original')\n",
    "cv.waitKey(0)"
   ]
  },
  {
   "cell_type": "markdown",
   "metadata": {},
   "source": [
    "Luego observamos la imagen original más el ruido:"
   ]
  },
  {
   "cell_type": "code",
   "execution_count": 5,
   "metadata": {},
   "outputs": [
    {
     "data": {
      "text/plain": [
       "-1"
      ]
     },
     "execution_count": 5,
     "metadata": {},
     "output_type": "execute_result"
    }
   ],
   "source": [
    "J = saltAndPepperNoisy(img)\n",
    "cv.imshow(mat = J, winname = 'Original + Noise')\n",
    "cv.waitKey(0)"
   ]
  },
  {
   "cell_type": "markdown",
   "metadata": {},
   "source": [
    "Aplicamos un pasabajos a la imagen:"
   ]
  },
  {
   "cell_type": "code",
   "execution_count": null,
   "metadata": {},
   "outputs": [],
   "source": [
    "kernel = np.ones((3,3),np.float32)/9\n",
    "K = cv.filter2D(J,-1,kernel)\n",
    "cv.imshow(mat = K, winname = 'Lowpass filter')\n",
    "cv.waitKey(0)"
   ]
  },
  {
   "cell_type": "markdown",
   "metadata": {},
   "source": [
    "Este filtro resulta de convolucionar la imagen con un kernel pasa bajos. Con el mismo se eliminan las frecuencias altas de la imagen, por lo que los bordes aparecen borrosos. Esto es equivalente a realizar un promedio de los pixels del kernel y reemplazar el valor central por el mismo.\n",
    "Un kernel de 3x3 se ve de la siguiente manera:\n",
    "$$ K = \\frac{1}{9} \\begin{bmatrix} 1 & 1 & 1 \\\\ 1 & 1 & 1 \\\\ 1 & 1 & 1 \\end{bmatrix} $$\n",
    "Podemos ver que en la imagen resultante se siguen viendo pequeños cuadrados que resultan del promedio de el fondo con el ruido salt and pepper. Para eliminar del todo este ruido se intena en el proximo paso aplicar un filtro mediana."
   ]
  },
  {
   "cell_type": "markdown",
   "metadata": {},
   "source": [
    "Aplicamos un filto mediana a la imagen:"
   ]
  },
  {
   "cell_type": "code",
   "execution_count": 7,
   "metadata": {},
   "outputs": [
    {
     "data": {
      "text/plain": [
       "-1"
      ]
     },
     "execution_count": 7,
     "metadata": {},
     "output_type": "execute_result"
    }
   ],
   "source": [
    "L = cv.medianBlur(J,3)\n",
    "cv.imshow(mat = L, winname = 'Median Blurring')\n",
    "cv.waitKey(0)"
   ]
  },
  {
   "cell_type": "markdown",
   "metadata": {},
   "source": [
    "En este caso, el filtro mediana toma la media de todos lo spixels dentro del kernel en vez del promedio. De esta manera un pixel con un cambio aprupto en color no impacta de gran manera como en un pasa bajos. Este filtro no lineal sirve muy bien para casos con ruido como lo es el ruido salt and pepper. Esto tambien se debe a que con la operacion media, el pixel central siempre se reemplaza con un pixel ya existente en el kernel, a diferencia de un pasa bajos el cual el nuevo valor puede no estar en la imagen original. En la imagen nueva generada se puede apreciar como este filtro elimina con exito el ruido salt and pepper de  la imagen."
   ]
  },
  {
   "cell_type": "markdown",
   "metadata": {},
   "source": [
    "Finalmente mostramos la comparación de los cuatro casos juntos:"
   ]
  },
  {
   "cell_type": "code",
   "execution_count": 11,
   "metadata": {},
   "outputs": [
    {
     "data": {
      "text/plain": [
       "-1"
      ]
     },
     "execution_count": 11,
     "metadata": {},
     "output_type": "execute_result"
    }
   ],
   "source": [
    "# Display\n",
    "display = np.hstack((img, J, K, L))\n",
    "cv.imshow(mat = display, winname = 'Original vs Noisy vs Lowpass filter vs Median Blurring')\n",
    "cv.waitKey(0)"
   ]
  }
 ],
 "metadata": {
  "kernelspec": {
   "display_name": "Python (dip)",
   "language": "python",
   "name": "dip"
  },
  "language_info": {
   "codemirror_mode": {
    "name": "ipython",
    "version": 3
   },
   "file_extension": ".py",
   "mimetype": "text/x-python",
   "name": "python",
   "nbconvert_exporter": "python",
   "pygments_lexer": "ipython3",
   "version": "3.8.5"
  }
 },
 "nbformat": 4,
 "nbformat_minor": 4
}
