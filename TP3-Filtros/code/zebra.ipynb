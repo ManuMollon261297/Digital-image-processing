{
 "cells": [
  {
   "cell_type": "code",
   "execution_count": 1,
   "metadata": {},
   "outputs": [],
   "source": [
    "import cv2 as cv\n",
    "import numpy as np"
   ]
  },
  {
   "cell_type": "code",
   "execution_count": 2,
   "metadata": {},
   "outputs": [
    {
     "data": {
      "text/plain": [
       "-1"
      ]
     },
     "execution_count": 2,
     "metadata": {},
     "output_type": "execute_result"
    }
   ],
   "source": [
    "# Load Image\n",
    "img = cv.imread(filename='../data/images/zebra.png', flags=cv.IMREAD_GRAYSCALE)\n",
    "cv.imshow(mat = img, winname = 'Original')\n",
    "cv.waitKey(0)"
   ]
  },
  {
   "cell_type": "markdown",
   "metadata": {},
   "source": [
    "Se puede hacer uso de la primera derivada para el mejoramiento de la imagen. En este caso tomamos el vector gradiente:\n",
    "$$ \\nabla f = \\begin{bmatrix} Gx \\\\ Gy \\end{bmatrix} $$\n",
    "Donde su modulo resulta ser:\n",
    "$$ |\\nabla f| = (Gx^2+Gy^2)^{1/2} $$\n",
    "Y una aproximacion a esta es:\n",
    "$$ |\\nabla f| \\approx |Gx|+|Gy| $$\n",
    "Donde tenemos:\n",
    "$$ Gx = \\frac{\\delta f}{\\delta x} = f(x+1) - f(x) $$\n",
    "$$ Gy = \\frac{\\delta f}{\\delta y} = f(y+1) - f(y) $$\n",
    "El operador Sobel usa dos kernels (generalmente de $ 3 \\cdot 3 $) los cuales son convolucionados con la imagen general para calcular aproximaciones de las derivadas. \n",
    "Siendo un kernel de la imagen:\n",
    "$$ A = \\begin{bmatrix} z1 & z2 & z3 \\\\ z4 & z5 & z6 \\\\ z7 & z8 & z9 \\end{bmatrix} $$\n",
    "Y siendo la aproximacion del modulo del gradiente la siguiente:\n",
    "$$ |\\nabla f| \\approx |(z2+2\\cdot z8+z9)-(z1+2\\cdot z2+z3)| + |(z3+2\\cdot z6+z9)-(z1+2\\cdot z4+z7)|$$\n",
    "Entonces calculamos $ Gx $ y $ Gy $ de la siguiente manera:\n",
    "$$ G_{x} = \\begin{bmatrix} -1 & 0 & +1 \\\\ -2 & 0 & +2 \\\\ -1 & 0 & +1 \\end{bmatrix} * I $$\n",
    "$$ G_{y} = \\begin{bmatrix} -1 & -2 & -1 \\\\ 0 & 0 & 0 \\\\ +1 & +2 & +1 \\end{bmatrix} * I $$\n",
    "El 2 en las matrices se usa para dar mayor importancia al pixel central.\n",
    "Esto se generaliza para kernels de tamaño 1, 5 y 7.\n"
   ]
  },
  {
   "cell_type": "code",
   "execution_count": 3,
   "metadata": {},
   "outputs": [],
   "source": [
    "kernels = [1,3,5,7]\n",
    "for ksize in kernels:\n",
    "    # Gradient X\n",
    "    Gx = cv.Sobel(src = img, ddepth=cv.CV_16S, dx=1, dy=0, ksize=ksize)\n",
    "    # Gradient Y\n",
    "    Gy = cv.Sobel(src = img, ddepth=cv.CV_16S, dx=0, dy=1, ksize=ksize)\n",
    "    \n",
    "    # Convert image back to greyscale\n",
    "    Gx = cv.convertScaleAbs(Gx, alpha=255/Gx.max())\n",
    "    Gy = cv.convertScaleAbs(Gy, alpha=255/Gy.max())\n",
    "    \n",
    "    # Display\n",
    "    display = np.hstack((Gx, Gy))\n",
    "    cv.imshow(mat = display, winname = 'Sobel - Gx vs Gy - Kernel Size: '+str(ksize))\n",
    "    cv.waitKey(0)"
   ]
  },
  {
   "cell_type": "markdown",
   "metadata": {},
   "source": [
    "Se puede observar en las imagenes anteriores el efecto del tamaño del kernel en la imagen.\n",
    "En las mismas se puede apreciar que cuando se aplica la derviada en $ x $ se realzan las lineas verticales ya que hay una mayor derivada cuando hay cambios de color abruptos en el eje $ x $ y cuando se aplica la derivada en $ y $ se realzan las lineas horizontales ya que es anologo al caso anterior.\n",
    "Se puede obtener mejores aproximaciones a la gradiente cuando el kernel es 3 con el uso del operador Scharr, ya que Sobel puede tener resultados imprecisos dado que es una aproximacion. Scharr es mas precisa que Sobel, y utiliza los siguientes kernels:\n",
    "$$ Gx_{mat} = \\begin{bmatrix} -3 & 0 & +3 \\\\ -10 & 0 & +10 \\\\ -3 & 0 & +3 \\end{bmatrix} $$\n",
    "$$ Gy_{mat} = \\begin{bmatrix} -3 & -10 & -3 \\\\ 0 & 0 & 0 \\\\ +3 & +10 & +3 \\end{bmatrix} $$\n",
    "Y se calcula el gradiente de la siguiente manera:\n",
    "$$ G_{x} = Gx_{mat} * I $$\n",
    "$$ G_{y} = Gy_{mat} * I $$\n"
   ]
  },
  {
   "cell_type": "code",
   "execution_count": 4,
   "metadata": {},
   "outputs": [
    {
     "data": {
      "text/plain": [
       "-1"
      ]
     },
     "execution_count": 4,
     "metadata": {},
     "output_type": "execute_result"
    }
   ],
   "source": [
    "# Gradient X\n",
    "Gx_scharr = cv.Scharr(src = img, ddepth=cv.CV_16S, dx=1, dy=0)\n",
    "# Gradient Y\n",
    "Gy_scharr = cv.Scharr(src = img, ddepth=cv.CV_16S, dx=0, dy=1)\n",
    "\n",
    "# Convert image back to greyscale\n",
    "Gx_scharr = cv.convertScaleAbs(Gx_scharr, alpha=255/Gx_scharr.max())\n",
    "Gy_scharr = cv.convertScaleAbs(Gy_scharr, alpha=255/Gy_scharr.max())\n",
    "\n",
    "# Display\n",
    "display_scharr = np.hstack((Gx_scharr, Gy_scharr))\n",
    "cv.imshow(mat = display_scharr, winname = 'Scharr - Gx vs Gy - Kernel Size: '+str(3))\n",
    "cv.waitKey(0)"
   ]
  },
  {
   "cell_type": "markdown",
   "metadata": {},
   "source": [
    "En este caso no hay diferencia apreciable entre el gradiente de Sobel y el de Scharr"
   ]
  },
  {
   "cell_type": "code",
   "execution_count": 5,
   "metadata": {},
   "outputs": [
    {
     "data": {
      "text/plain": [
       "-1"
      ]
     },
     "execution_count": 5,
     "metadata": {},
     "output_type": "execute_result"
    }
   ],
   "source": [
    "# Gradient X\n",
    "Gx = cv.Sobel(src = img, ddepth=cv.CV_16S, dx=1, dy=0, ksize=3)\n",
    "# Gradient Y\n",
    "Gy = cv.Sobel(src = img, ddepth=cv.CV_16S, dx=0, dy=1, ksize=3)\n",
    "    \n",
    "# Convert image back to greyscale\n",
    "Gx = cv.convertScaleAbs(Gx, alpha=255/Gx.max())\n",
    "Gy = cv.convertScaleAbs(Gy, alpha=255/Gy.max())\n",
    "grad = cv.addWeighted(Gx, 0.5, Gy, 0.5, 0)\n",
    "display_grad = np.hstack((img, grad))\n",
    "cv.imshow(mat = display_grad, winname = 'Original vs Gradient')\n",
    "cv.waitKey(0)"
   ]
  },
  {
   "cell_type": "markdown",
   "metadata": {},
   "source": [
    "Finalmente ponderamos ambas imagenes $ Gx $ y $ Gy $ de los gradientes de Sobel de kernel $ 3 \\cdot 3 $ y conseguimos una imagen que representa la \"derivada\" de la imagen original. Donde se ve en colores claros donde hay cambios aprubtos de color."
   ]
  },
  {
   "cell_type": "code",
   "execution_count": null,
   "metadata": {},
   "outputs": [],
   "source": []
  }
 ],
 "metadata": {
  "kernelspec": {
   "display_name": "Python (dip)",
   "language": "python",
   "name": "dip"
  },
  "language_info": {
   "codemirror_mode": {
    "name": "ipython",
    "version": 3
   },
   "file_extension": ".py",
   "mimetype": "text/x-python",
   "name": "python",
   "nbconvert_exporter": "python",
   "pygments_lexer": "ipython3",
   "version": "3.8.5"
  }
 },
 "nbformat": 4,
 "nbformat_minor": 4
}
