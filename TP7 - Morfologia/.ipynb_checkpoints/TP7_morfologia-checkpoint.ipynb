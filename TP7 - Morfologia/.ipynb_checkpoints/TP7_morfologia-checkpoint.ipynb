{
 "cells": [
  {
   "cell_type": "code",
   "execution_count": 4,
   "metadata": {},
   "outputs": [],
   "source": [
    "import cv2 as cv\n",
    "import numpy as np\n",
    "import matplotlib.pyplot as plt"
   ]
  },
  {
   "cell_type": "code",
   "execution_count": 5,
   "metadata": {},
   "outputs": [],
   "source": [
    "test_filenames = ['./images/text1.jpg', './images/squares2.png', './images/opened3.png', './images/manShadow4.png']"
   ]
  },
  {
   "cell_type": "markdown",
   "metadata": {},
   "source": [
    "### 1 - Dilación\n"
   ]
  },
  {
   "cell_type": "code",
   "execution_count": 6,
   "metadata": {},
   "outputs": [],
   "source": [
    "text_img = cv.imread(test_filenames[0], 0)\n",
    "dil_kernel = np.uint8(np.array([[0, 1, 0], [1, 1, 1], [0, 1, 0]]))\n",
    "dilation_text = cv.dilate(text_img, dil_kernel,iterations = 1)\n",
    "original_vs_dilation = np.hstack((text_img, dilation_text))\n",
    "\n",
    "cv.imshow(winname = 'original <LEFT> vs dilation <RIGHT>', mat = original_vs_dilation)\n",
    "cv.waitKey(0)\n",
    "cv.destroyAllWindows()"
   ]
  },
  {
   "cell_type": "markdown",
   "metadata": {},
   "source": [
    "### 2 - Erosión y Dilación"
   ]
  },
  {
   "cell_type": "code",
   "execution_count": 7,
   "metadata": {},
   "outputs": [],
   "source": [
    "def generate_squares_img(shapes, n_squares, img_size = 320):\n",
    "    squares_img = np.zeros((img_size, img_size), np.uint8)\n",
    "    for l in shapes:\n",
    "        random_x = np.random.randint(1, img_size - l - 1, n_squares)\n",
    "        random_y = np.random.randint(1, img_size - l - 1, n_squares)\n",
    "        for k in range(n_squares):\n",
    "            squares_img[random_x[k]:random_x[k] + l, random_y[k]:random_y[k] + l] = 255\n",
    "    return squares_img\n",
    "\n"
   ]
  },
  {
   "cell_type": "code",
   "execution_count": 8,
   "metadata": {},
   "outputs": [],
   "source": [
    "squares_img = generate_squares_img([1, 3, 5, 7, 9, 15], 10)\n",
    "B_kernel = np.ones((13, 13), np.uint8)\n",
    "erosion = cv.erode(squares_img, B_kernel,iterations = 1)\n",
    "dilacion = cv.dilate(erosion, B_kernel,iterations = 1)\n",
    "orig_eros_dil = np.hstack((squares_img, erosion, dilacion))\n",
    "\n",
    "cv.imshow(winname = 'original <LEFT> vs erosion <CENTER> vs dilacion <RIGHT>', mat = orig_eros_dil)\n",
    "cv.waitKey(0)\n",
    "cv.destroyAllWindows()"
   ]
  },
  {
   "cell_type": "markdown",
   "metadata": {},
   "source": [
    "### 3 - Apertura (erosión y dilación)"
   ]
  },
  {
   "cell_type": "code",
   "execution_count": 23,
   "metadata": {},
   "outputs": [
    {
     "name": "stdout",
     "output_type": "stream",
     "text": [
      "[[0 0 0 ... 0 0 0]\n",
      " [0 0 0 ... 0 0 0]\n",
      " [0 0 0 ... 0 0 0]\n",
      " ...\n",
      " [0 0 0 ... 0 0 0]\n",
      " [0 0 0 ... 0 0 0]\n",
      " [0 0 0 ... 0 0 0]]\n"
     ]
    }
   ],
   "source": [
    "k = 50\n",
    "circle_kernel = cv.getStructuringElement(cv.MORPH_ELLIPSE,(k,k))\n",
    "print(circle_kernel)"
   ]
  },
  {
   "cell_type": "code",
   "execution_count": 24,
   "metadata": {},
   "outputs": [],
   "source": [
    "img3 = cv.imread(test_filenames[2], 0)\n",
    "aux = cv.erode(img3, circle_kernel,iterations = 1)\n",
    "result_opened = cv.dilate(aux, circle_kernel,iterations = 1)\n",
    "orig_open = np.hstack((img3, result_opened))\n",
    "cv.imshow(winname = 'original <LEFT> vs opened <RIGHT>', mat = orig_open)\n",
    "\n",
    "#cv.imshow(winname = 'original <LEFT> vs opened <RIGHT>', mat = img3)\n",
    "cv.waitKey(0)\n",
    "cv.destroyAllWindows()"
   ]
  },
  {
   "cell_type": "code",
   "execution_count": 27,
   "metadata": {},
   "outputs": [
    {
     "data": {
      "text/plain": [
       "'def open_effect(img, radius):\\n    circle_kernel = cv.getStructuringElement(cv.MORPH_ELLIPSE,(radius,radius))\\n    aux = cv.erode(img3, circle_kernel,iterations = 1)\\n    result_opened = cv.dilate(aux, circle_kernel,iterations = 1)\\n    return result_opened\\n\\ndef bar(x):\\n    pass\\n\\ndef run_open_effect(img):\\n    \\n    cv.namedWindow(\"Image\")##Names the window with the trackbar \"image\"\\n    cv.createTrackbar(\"R\", \"Image\", 255, 30, bar)##Creates trackbar with values 0-10 \\n    \\n    key = cv.waitKey(10)\\n    while True:##Loop for getting trackbar position and processing it \\n       #cv.imshow(\"Image\", bar)\\n        R = cv.getTrackbarPos(\\'R\\',\\'Image\\')\\n        mat = open_effect(img, R)\\n        orig_open = np.hstack((img, mat))\\n        cv.imshow(winname = \\'original <LEFT> vs opened <RIGHT>\\', mat = orig_open)\\n        key = cv.waitKey(0)\\n        if key == 27:\\n            break\\n            \\n    cv.destroyAllWindows()'"
      ]
     },
     "execution_count": 27,
     "metadata": {},
     "output_type": "execute_result"
    }
   ],
   "source": [
    "\"\"\"def open_effect(img, radius):\n",
    "    circle_kernel = cv.getStructuringElement(cv.MORPH_ELLIPSE,(radius,radius))\n",
    "    aux = cv.erode(img3, circle_kernel,iterations = 1)\n",
    "    result_opened = cv.dilate(aux, circle_kernel,iterations = 1)\n",
    "    return result_opened\n",
    "\n",
    "def bar(x):\n",
    "    pass\n",
    "\n",
    "def run_open_effect(img):\n",
    "    \n",
    "    cv.namedWindow(\"Image\")##Names the window with the trackbar \"image\"\n",
    "    cv.createTrackbar(\"R\", \"Image\", 255, 30, bar)##Creates trackbar with values 0-10 \n",
    "    \n",
    "    key = cv.waitKey(10)\n",
    "    while True:##Loop for getting trackbar position and processing it \n",
    "       #cv.imshow(\"Image\", bar)\n",
    "        R = cv.getTrackbarPos('R','Image')\n",
    "        mat = open_effect(img, R)\n",
    "        orig_open = np.hstack((img, mat))\n",
    "        cv.imshow(winname = 'original <LEFT> vs opened <RIGHT>', mat = orig_open)\n",
    "        key = cv.waitKey(0)\n",
    "        if key == 27:\n",
    "            break\n",
    "            \n",
    "    cv.destroyAllWindows()\"\"\""
   ]
  },
  {
   "cell_type": "code",
   "execution_count": 28,
   "metadata": {},
   "outputs": [],
   "source": [
    "#run_open_effect(img3)"
   ]
  },
  {
   "cell_type": "markdown",
   "metadata": {},
   "source": [
    "### 4 - Contorno"
   ]
  },
  {
   "cell_type": "code",
   "execution_count": 69,
   "metadata": {},
   "outputs": [],
   "source": [
    "shadow = cv.imread(test_filenames[3], 0)\n",
    "result = np.zeros((shadow.shape[0], shadow.shape[1]), np.uint8)\n",
    "\n",
    "ret, thresh = cv.threshold(shadow, 127, 255, 0)\n",
    "contours, hierarchy = cv.findContours(thresh, cv.RETR_TREE, cv.CHAIN_APPROX_SIMPLE)\n",
    "contours = np.array(contours)\n",
    "#print(max(contours))\n",
    "contours = contours.reshape(contours.shape[1], 2)\n",
    "for coord in contours:\n",
    "    result[coord[1], coord[0]] = 255\n",
    "\n",
    "#agrando el borde\n",
    "kernel_border = np.ones((3, 3), np.uint8)\n",
    "result = result_opened = cv.dilate(result, kernel_border,iterations = 1)\n",
    "orig_vs_result = np.hstack((shadow, result))\n",
    "\n",
    "cv.imshow(winname = 'original <LEFT> vs contour <RIGHT>', mat = orig_vs_result)\n",
    "\n",
    "cv.waitKey(0)\n",
    "cv.destroyAllWindows()"
   ]
  },
  {
   "cell_type": "code",
   "execution_count": null,
   "metadata": {},
   "outputs": [],
   "source": []
  }
 ],
 "metadata": {
  "kernelspec": {
   "display_name": "Python (images)",
   "language": "python",
   "name": "images"
  },
  "language_info": {
   "codemirror_mode": {
    "name": "ipython",
    "version": 3
   },
   "file_extension": ".py",
   "mimetype": "text/x-python",
   "name": "python",
   "nbconvert_exporter": "python",
   "pygments_lexer": "ipython3",
   "version": "3.7.9"
  }
 },
 "nbformat": 4,
 "nbformat_minor": 4
}
